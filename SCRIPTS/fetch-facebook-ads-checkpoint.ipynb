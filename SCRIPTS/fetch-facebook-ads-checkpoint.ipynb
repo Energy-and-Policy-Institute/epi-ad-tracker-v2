{
 "cells": [
  {
   "cell_type": "code",
   "execution_count": 9,
   "id": "0461abee",
   "metadata": {
    "ExecuteTime": {
     "end_time": "2024-01-15T15:12:13.315370Z",
     "start_time": "2024-01-15T15:12:13.159290200Z"
    }
   },
   "outputs": [],
   "source": [
    "### import libraries\n",
    "import argparse\n",
    "import json \n",
    "import requests\n",
    "from collections import defaultdict\n",
    "import pandas as pd\n",
    "from decimal import Decimal\n",
    "\n",
    "import psycopg2\n",
    "import numpy as np"
   ]
  },
  {
   "cell_type": "code",
   "execution_count": 10,
   "id": "2aece6e7",
   "metadata": {
    "ExecuteTime": {
     "end_time": "2024-01-15T15:12:13.343952900Z",
     "start_time": "2024-01-15T15:12:13.321956200Z"
    }
   },
   "outputs": [],
   "source": [
    "### credentials\n",
    "# go to graphQL explorer & copy the token\n",
    "# debug & extend the token - https://developers.facebook.com/tools/debug/accesstoken/?access_token=1188185338645694%7Clu6paxlAjEydJwExj0DCZqR-TRg&version=v16.0\n",
    "ACCESS_TOKEN=\"EAALF3LZBKPzcBOyn4ZBTvZC5UcZCGMtZCphkW2qz38kZCx8F6wXxJ8yFl3SAOAQB163Af9E03j6xvWyxqK4pPZAZAdekHChZBWDyRZCMg564ZBUFL2lNVtGnfRvIZCZBEaQbrT0UdZCA9KPNxBQMwCCsc5nzL8IDkf7ZB53vZBZBTXQdKwI5whLRnhzteZAZApd4WEHvxndTLryqsfXbFZBQ\""
   ]
  },
  {
   "cell_type": "code",
   "execution_count": 11,
   "id": "c0c61cdc",
   "metadata": {
    "ExecuteTime": {
     "end_time": "2024-01-15T15:12:13.386068100Z",
     "start_time": "2024-01-15T15:12:13.353017800Z"
    }
   },
   "outputs": [],
   "source": [
    "### functions\n",
    "\n",
    "def calculate_impressions_midpoint(data):\n",
    "    \"\"\"Calculate impressions midpoint\"\"\"\n",
    "    # Convert from a string of characters into an integer\n",
    "    upper_bound = int(data[\"impressions\"][\"upper_bound\"])\n",
    "    lower_bound = int(data[\"impressions\"][\"lower_bound\"])\n",
    "\n",
    "    return round((upper_bound + lower_bound) / 2)\n",
    "\n",
    "def calculate_impressions_by_region(data, impressions):\n",
    "    \"\"\"Calculate impressions by regions\"\"\"\n",
    "    # Create a new dict to contain the results\n",
    "    result = {}\n",
    "\n",
    "    # Loop through each region and calculate the impressions\n",
    "    for chunk in data[\"delivery_by_region\"]:\n",
    "        result[chunk[\"region\"]] = round(impressions * float(chunk[\"percentage\"]))\n",
    "\n",
    "    return result\n",
    "\n",
    "def calculate_impressions_by_gender(data, impressions):\n",
    "    \"\"\"Calculates impressions by gender\"\"\"\n",
    "    # Create a new dict to contain the results. The categories are pre-populated with 0s.\n",
    "    results = {\"male\": 0, \"female\": 0, \"unknown\": 0}\n",
    "\n",
    "    # Loop through demographic data\n",
    "    for d in data[\"demographic_distribution\"]:\n",
    "        # Let's break this expression down:\n",
    "        # 1. result[d[\"gender\"]] looks for the key in the result dict that matches d[\"gender\"]\n",
    "        # 2. += is a short hand operator for addition and assignment. e.g. foo +=1 is the same\n",
    "        #    as foo = foo + 1\n",
    "        # 3. float(d[\"percentage\"]) converts the JSON data into a decimal number (programmers\n",
    "        #    call those floats because the decimal can move around).\n",
    "        # 4. round(impressions * float(d[\"percentage\"])) multiplies the percentage by the\n",
    "        #    impressions and rounds up to the nearest integer\n",
    "        results[d[\"gender\"]] += round(impressions * float(d[\"percentage\"]))\n",
    "\n",
    "    return results\n",
    "\n",
    "def calculate_impressions_by_age(data, impressions):\n",
    "    \"\"\"Calculate impressions by age\"\"\"\n",
    "    # Create a new default dict to contain the results. The default dict makes any new element\n",
    "    # default to a value specified by the user. In our case we're defaulting to an integer 0.\n",
    "    # int is actually a function that retuns 0 when called with no arguments\n",
    "    results = defaultdict(int)\n",
    "\n",
    "    # Loop through the demographic data and add up the impressions\n",
    "    for d in data[\"demographic_distribution\"]:\n",
    "        # Let's break this expression down:\n",
    "        # 1. result[d[\"age\"]] looks for the key in the result dict that matches d[\"age\"]. If\n",
    "        #    there is no key that matches d[\"age\"] the default dict will make one with the value\n",
    "        #    of int(), which is always 0.\n",
    "        # 2. += is a short hand operator for addition and assignment. e.g. foo +=1 is the same\n",
    "        #    as foo = foo + 1\n",
    "        # 3. float(d[\"percentage\"]) converts the JSON data into a decimal number (programmers\n",
    "        #    call those floats because the decimal can move around).\n",
    "        # 4. round(impressions * float(d[\"percentage\"])) multiplies the percentage by the\n",
    "        #    impressions and rounds up to the nearest integer\n",
    "        results[d[\"age\"]] += round(impressions * float(d[\"percentage\"]))\n",
    "\n",
    "    return results"
   ]
  },
  {
   "cell_type": "code",
   "execution_count": 12,
   "id": "7ee93f47",
   "metadata": {
    "ExecuteTime": {
     "end_time": "2024-01-15T15:12:13.412068600Z",
     "start_time": "2024-01-15T15:12:13.379069Z"
    }
   },
   "outputs": [],
   "source": [
    "### list of page IDs\n",
    "idList = ['106039214814684',\n",
    "'102281724942742',\n",
    "'738063612887865',\n",
    "'341751646428117',\n",
    "'591566840920364',\n",
    "'105502284969626',\n",
    "'49560242814',\n",
    "'101691091213750',\n",
    "# '113891694102', removed Energy Citizens\n",
    "'292970844058835',\n",
    "'100801038449520',\n",
    "'108095672108380',\n",
    "'111394533709201',\n",
    "'107500120800840',\n",
    "'101242238726088',\n",
    "'237209147160346',\n",
    "'110124925319299',\n",
    "'396341921119746',\n",
    "'108203188195224',\n",
    "'106656845034469',\n",
    "'47710973068',\n",
    "'482100658584410']"
   ]
  },
  {
   "cell_type": "code",
   "execution_count": null,
   "id": "08ea523d",
   "metadata": {
    "is_executing": true,
    "ExecuteTime": {
     "start_time": "2024-01-15T15:12:13.399069500Z"
    }
   },
   "outputs": [
    {
     "name": "stdout",
     "output_type": "stream",
     "text": [
      "106039214814684\n",
      ".....\n",
      "\n",
      "102281724942742\n",
      "..............................................................................................\n",
      "\n",
      "738063612887865\n",
      ".................................................................................................................."
     ]
    }
   ],
   "source": [
    "\"\"\"Entrypoint of the program\"\"\"\n",
    "\n",
    "# Store the paginated data in here\n",
    "data = []\n",
    "\n",
    "# create dataframe\n",
    "df = pd.DataFrame()\n",
    "\n",
    "# for each item in the list, store their data in the pandas dataframe\n",
    "\n",
    "# This might work for our request\n",
    "for i in idList:\n",
    "    print(i)\n",
    "    response = requests.get(\"https://graph.facebook.com/v5.0/ads_archive\", params={\n",
    "    \"access_token\": ACCESS_TOKEN,\n",
    "    \"ad_type\": \"POLITICAL_AND_ISSUE_ADS\",\n",
    "    \"ad_active_status\": \"ALL\",\n",
    "    \"search_page_ids\": i,\n",
    "    \"ad_reached_countries\": [\"US\"],\n",
    "    \"ad_delivery_date_min\": \"2018-05-24\",\n",
    "    \"ad_delivery_date_max\": \"2023-07-07\",\n",
    "    \"fields\": \"id, ad_delivery_start_time, ad_delivery_stop_time, ad_snapshot_url, bylines, delivery_by_region, demographic_distribution, impressions, publisher_platforms, spend, ad_creative_bodies, ad_creative_link_captions, ad_creative_link_descriptions, ad_creative_link_titles, page_name, page_id\"\n",
    "})\n",
    "    # Get the json document and pull out the next link and the data\n",
    "    json1 = response.json()\n",
    "    \n",
    "    try:\n",
    "        next_link = json1['paging']['next']\n",
    "        data = data + json1['data']\n",
    "    except KeyError:\n",
    "        continue\n",
    "\n",
    "    while next_link:\n",
    "      print('.', end='')\n",
    "      response = requests.get(next_link)\n",
    "      json1 = response.json()\n",
    "      if 'paging' not in json1:\n",
    "        break\n",
    "      next_link = json1['paging']['next']\n",
    "      data = data + json1['data']\n",
    "    print('\\n')\n",
    "\n",
    "    # append data to dataframe\n",
    "    res = pd.json_normalize(data)\n",
    "    df._append(res)\n"
   ]
  },
  {
   "cell_type": "code",
   "execution_count": null,
   "id": "68e1c62d",
   "metadata": {
    "is_executing": true
   },
   "outputs": [],
   "source": [
    "res"
   ]
  },
  {
   "attachments": {},
   "cell_type": "markdown",
   "id": "e1e8cb58",
   "metadata": {},
   "source": [
    "### Clean & Export Data"
   ]
  },
  {
   "attachments": {},
   "cell_type": "markdown",
   "id": "f2a57df0",
   "metadata": {},
   "source": [
    "### For Summary Table"
   ]
  },
  {
   "cell_type": "code",
   "execution_count": null,
   "id": "8e0929a3",
   "metadata": {
    "is_executing": true
   },
   "outputs": [],
   "source": [
    "# check NaNs:\n",
    "# res['ad_delivery_stop_time'][res['ad_delivery_stop_time'].isna()]\n",
    "# print(res.loc[1])\n",
    "print(res.loc[1][\"ad_delivery_start_time\"])\n",
    "print(res.loc[2][\"id\"])\n",
    "\n",
    "val0 = res.loc[0][\"id\"]\n",
    "val1 = res.loc[1][\"id\"]\n",
    "\n",
    "print(val0,val1)\n",
    "\n",
    "conn = psycopg2.connect(host=\"localhost\" , database=\"epiadb\" , user=\"postgres\", password=\"root\")\n",
    "cur = conn.cursor()\n",
    "\n",
    "query = \"insert into Generation1 (generationnumber, generationnumber2) values (%s, %s)\"\n",
    "data = (res.loc[2][\"id\"],res.loc[3][\"id\"])\n",
    "cur.execute(query,data)\n",
    "\n",
    "query1 = \"INSERT INTO pythonendpointrow  (generation, pythonid, ad_delivery_start_time, ad_delivery_stop_time, ad_snapshot_url, bylines, delivery_by_region, demographic_distribution, publisher_platforms, ad_creative_bodies, ad_creative_link_captions   , ad_creative_link_descriptions   , ad_creative_link_titles, page_name , page_id, impressions_lower_bound  , impressions_upper_bound     , spend_lower_bound    , spend_upper_bound ) values ( %s,%s, %s,%s, %s,%s, %s,%s, %s,%s, %s,%s, %s,%s, %s,%s, %s, %s, %s)\"\n",
    "\n",
    "subslice = res\n",
    "\n",
    "\n",
    "\n",
    "for e in range(10):\n",
    "    JSONdelivery_by_region            =  json.dumps(subslice.loc[e][\"delivery_by_region\"]            )   \n",
    "    JSONdemographic_distribution      =  json.dumps(subslice.loc[0][\"demographic_distribution\"]      )   \n",
    "    JSONpublisher_platforms           =  json.dumps(subslice.loc[0][\"publisher_platforms\"]           )   \n",
    "    JSONad_creative_bodies            =  json.dumps(subslice.loc[0][\"ad_creative_bodies\"]            )   \n",
    "    JSONad_creative_link_captions     =  json.dumps(subslice.loc[0][\"ad_creative_link_captions\"]     )   \n",
    "    JSONad_creative_link_descriptions =  json.dumps(subslice.loc[0][\"ad_creative_link_descriptions\"] )   \n",
    "    JSONad_creative_link_titles       =  json.dumps(subslice.loc[0][\"ad_creative_link_titles\"]       )   \n",
    "           \n",
    "    print(\"e1 is:\", e)\n",
    "    print(subslice.loc[e][\"id\"])\n",
    "    print(subslice.loc[e])\n",
    "    z = subslice.loc[e]\n",
    "    print( type(z[\"page_id\"]))\n",
    "    print( type(z[\"id\"]))\n",
    "    for attribute_name , attribute_value in vars(z).items():    \n",
    "       print( attribute_name , type(attribute_value))\n",
    "       data1 = ( 1, int(subslice.loc[e][\"id\"]) ,subslice.loc[e][\"ad_delivery_start_time\"],subslice.loc[e][\"ad_delivery_stop_time\"],subslice.loc[e][\"ad_snapshot_url\"],subslice.loc[e][\"bylines\"],subslice.loc[e][\"delivery_by_region\"],subslice.loc[0][\"demographic_distribution\"] ,subslice.loc[0][\"publisher_platforms\"]            ,subslice.loc[0][\"ad_creative_bodies\"]             ,subslice.loc[0][\"ad_creative_link_captions\"]      ,subslice.loc[0][\"ad_creative_link_descriptions\"]  ,subslice.loc[0][\"ad_creative_link_titles\"]          ,subslice.loc[e][\"page_name\"], int(subslice.loc[e][\"page_id\"]), int(subslice.loc[e][\"impressions.lower_bound\"]) ,int(subslice.loc[e][\"impressions.upper_bound\"]),int(subslice.loc[e][\"spend.lower_bound\"]),int(subslice.loc[e][\"spend.lower_bound\"]))\n",
    "    cur.execute(query1,data1)\n",
    "    \n",
    "for i in range(5):\n",
    "    print(i)\n",
    "\n",
    "conn.commit()\n",
    "cur.close()\n",
    "conn.close()\n",
    "\n",
    "                                 \n",
    "\n",
    "# fill NaN with '999'\n",
    "res['ad_delivery_stop_time'] = res['ad_delivery_stop_time'].fillna('999')"
   ]
  },
  {
   "cell_type": "code",
   "execution_count": null,
   "id": "7faecdf4",
   "metadata": {
    "is_executing": true
   },
   "outputs": [],
   "source": [
    "# create 'ad start month' and 'ad start year' column\n",
    "res['ad_start_month'] = res['ad_delivery_start_time'].str.split('-').str[1].astype(int)\n",
    "res['ad_start_year'] = res['ad_delivery_start_time'].str.split('-').str[0].astype(int)"
   ]
  },
  {
   "cell_type": "markdown",
   "source": [],
   "metadata": {
    "collapsed": false
   },
   "id": "82225c1faa583eac"
  },
  {
   "cell_type": "code",
   "execution_count": null,
   "id": "019ee876",
   "metadata": {
    "is_executing": true
   },
   "outputs": [],
   "source": [
    "# convert string to integer\n",
    "res['spend.lower_bound'] = res['spend.lower_bound'].astype('int')\n",
    "res['spend.upper_bound'] = res['spend.upper_bound'].astype('int').round(-2)"
   ]
  },
  {
   "cell_type": "code",
   "execution_count": null,
   "id": "db47c97e",
   "metadata": {
    "is_executing": true
   },
   "outputs": [],
   "source": [
    "# title case for bylines column\n",
    "res['bylines'] = res['bylines'].str.title()"
   ]
  },
  {
   "cell_type": "code",
   "execution_count": null,
   "id": "a045a737",
   "metadata": {
    "is_executing": true
   },
   "outputs": [],
   "source": [
    "res[0:1]"
   ]
  },
  {
   "cell_type": "code",
   "execution_count": null,
   "id": "dc81cd53",
   "metadata": {
    "is_executing": true
   },
   "outputs": [],
   "source": [
    "# export raw data\n",
    "print(res)\n",
    "res.to_csv(\"../all-front-group-ads-070723.csv\")"
   ]
  },
  {
   "cell_type": "code",
   "execution_count": null,
   "id": "6fe3985d",
   "metadata": {
    "is_executing": true
   },
   "outputs": [],
   "source": [
    "resjson = res[['page_name', 'id', 'spend.lower_bound', 'spend.upper_bound']].groupby('page_name').agg({'id':'count', 'spend.lower_bound': 'sum', 'spend.upper_bound': 'sum'}).reset_index().rename(columns={'page_name':'name', 'id':'ads', 'spend.lower_bound': 'lowerAmount', 'spend.upper_bound':'upperAmount'}).sort_values(by=\"upperAmount\", ascending=False).reset_index(drop=True)"
   ]
  },
  {
   "cell_type": "code",
   "execution_count": null,
   "id": "4b4a2d86",
   "metadata": {
    "is_executing": true
   },
   "outputs": [],
   "source": [
    "resjson"
   ]
  },
  {
   "cell_type": "code",
   "execution_count": null,
   "id": "13d12ba8",
   "metadata": {
    "is_executing": true
   },
   "outputs": [],
   "source": [
    "# export data\n",
    "resjson.to_json('../summary-070723.json', orient = 'records')"
   ]
  },
  {
   "attachments": {},
   "cell_type": "markdown",
   "id": "9d328297",
   "metadata": {},
   "source": [
    "### For Individual Tables"
   ]
  },
  {
   "cell_type": "code",
   "execution_count": null,
   "id": "ef1b16b4",
   "metadata": {
    "is_executing": true
   },
   "outputs": [],
   "source": [
    "# unpack the dataset to access region data\n",
    "result = pd.concat([res.explode('delivery_by_region').drop(['delivery_by_region'], axis=1),\n",
    "           res.explode('delivery_by_region')['delivery_by_region'].apply(pd.Series)],\n",
    "          axis=1)"
   ]
  },
  {
   "cell_type": "code",
   "execution_count": null,
   "id": "7ea1d75c",
   "metadata": {
    "is_executing": true
   },
   "outputs": [],
   "source": [
    "# convert to float type \n",
    "result['percentage'] = result['percentage'].astype(float)"
   ]
  },
  {
   "cell_type": "code",
   "execution_count": null,
   "id": "2e0a861a",
   "metadata": {
    "is_executing": true
   },
   "outputs": [],
   "source": [
    "# calculate lower & upper amount spent per region\n",
    "result['lowerAmount'] = result['percentage'] * result['spend.lower_bound']\n",
    "result['upperAmount'] = result['percentage'] * result['spend.upper_bound']"
   ]
  },
  {
   "cell_type": "code",
   "execution_count": null,
   "id": "2e7cb86e",
   "metadata": {
    "is_executing": true
   },
   "outputs": [],
   "source": [
    "# view data\n",
    "result[['page_name', 'region', 'lowerAmount', 'upperAmount']].groupby(['page_name', 'region']).sum(['lowerAmount', 'upperAmount']).reset_index().rename(columns={'page_name':'name'})"
   ]
  },
  {
   "cell_type": "code",
   "execution_count": null,
   "id": "eb1147e0",
   "metadata": {
    "is_executing": true
   },
   "outputs": [],
   "source": [
    "# if the percentage amount is less 10%, don't include it\n",
    "result.query(\"percentage >.10\")\n",
    "# result.query(\" page_name == 'Cooperative Action Network' \")"
   ]
  },
  {
   "cell_type": "code",
   "execution_count": null,
   "id": "d9466c5d",
   "metadata": {
    "is_executing": true
   },
   "outputs": [],
   "source": [
    "# export data\n",
    "result[['page_name', 'region', 'lowerAmount', 'upperAmount', 'percentage']].query(\"percentage > 0.10\").groupby(['page_name', 'region']).sum(['lowerAmount', 'upperAmount']).reset_index().rename(columns={'page_name':'name'}).to_json('../individual-070723.json', orient = 'records')"
   ]
  },
  {
   "cell_type": "code",
   "execution_count": null,
   "id": "40f90252",
   "metadata": {
    "is_executing": true
   },
   "outputs": [],
   "source": []
  }
 ],
 "metadata": {
  "kernelspec": {
   "display_name": "Python 3 (ipykernel)",
   "language": "python",
   "name": "python3"
  },
  "language_info": {
   "codemirror_mode": {
    "name": "ipython",
    "version": 3
   },
   "file_extension": ".py",
   "mimetype": "text/x-python",
   "name": "python",
   "nbconvert_exporter": "python",
   "pygments_lexer": "ipython3",
   "version": "3.8.12"
  }
 },
 "nbformat": 4,
 "nbformat_minor": 5
}
